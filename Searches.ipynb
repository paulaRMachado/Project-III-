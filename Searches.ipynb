{
 "cells": [
  {
   "cell_type": "code",
   "execution_count": 30,
   "metadata": {},
   "outputs": [],
   "source": [
    "from pymongo import MongoClient\n",
    "import pandas as pd\n",
    "from getpass import getpass\n",
    "from dotenv import load_dotenv\n",
    "import os\n",
    "import plotly.express as px\n"
   ]
  },
  {
   "cell_type": "code",
   "execution_count": 2,
   "metadata": {},
   "outputs": [],
   "source": [
    "token = os.getenv('token')"
   ]
  },
  {
   "cell_type": "code",
   "execution_count": 3,
   "metadata": {},
   "outputs": [],
   "source": [
    "client = MongoClient(\"localhost:27017\")\n",
    "db = client['Ironhack']\n",
    "c = db.get_collection(\"companies\")"
   ]
  },
  {
   "cell_type": "code",
   "execution_count": 63,
   "metadata": {},
   "outputs": [],
   "source": []
  },
  {
   "cell_type": "code",
   "execution_count": 4,
   "metadata": {},
   "outputs": [
    {
     "data": {
      "text/plain": [
       "{'_id': ObjectId('52cdef7c4bab8bd675297d8a'),\n",
       " 'name': 'Wetpaint',\n",
       " 'permalink': 'abc2',\n",
       " 'crunchbase_url': 'http://www.crunchbase.com/company/wetpaint',\n",
       " 'homepage_url': 'http://wetpaint-inc.com',\n",
       " 'blog_url': 'http://digitalquarters.net/',\n",
       " 'blog_feed_url': 'http://digitalquarters.net/feed/',\n",
       " 'twitter_username': 'BachelrWetpaint',\n",
       " 'category_code': 'web',\n",
       " 'number_of_employees': 47,\n",
       " 'founded_year': 2005,\n",
       " 'founded_month': 10,\n",
       " 'founded_day': 17,\n",
       " 'deadpooled_year': 1,\n",
       " 'tag_list': 'wiki, seattle, elowitz, media-industry, media-platform, social-distribution-system',\n",
       " 'alias_list': '',\n",
       " 'email_address': 'info@wetpaint.com',\n",
       " 'phone_number': '206.859.6300',\n",
       " 'description': 'Technology Platform Company',\n",
       " 'created_at': datetime.datetime(2007, 5, 25, 6, 51, 27),\n",
       " 'updated_at': 'Sun Dec 08 07:15:44 UTC 2013',\n",
       " 'overview': '<p>Wetpaint is a technology platform company that uses its proprietary state-of-the-art technology and expertise in social media to build and monetize audiences for digital publishers. Wetpaint’s own online property, Wetpaint Entertainment, an entertainment news site that attracts more than 12 million unique visitors monthly and has over 2 million Facebook fans, is a proof point to the company’s success in building and engaging audiences. Media companies can license Wetpaint’s platform which includes a dynamic playbook tailored to their individual needs and comprehensive training. Founded by Internet pioneer Ben Elowitz, and with offices in New York and Seattle, Wetpaint is backed by Accel Partners, the investors behind Facebook.</p>',\n",
       " 'image': {'available_sizes': [[[150, 75],\n",
       "    'assets/images/resized/0000/3604/3604v14-max-150x150.jpg'],\n",
       "   [[250, 125], 'assets/images/resized/0000/3604/3604v14-max-250x250.jpg'],\n",
       "   [[450, 225], 'assets/images/resized/0000/3604/3604v14-max-450x450.jpg']]},\n",
       " 'products': [{'name': 'Wikison Wetpaint', 'permalink': 'wetpaint-wiki'},\n",
       "  {'name': 'Wetpaint Social Distribution System',\n",
       "   'permalink': 'wetpaint-social-distribution-system'}],\n",
       " 'relationships': [{'is_past': False,\n",
       "   'title': 'Co-Founder and VP, Social and Audience Development',\n",
       "   'person': {'first_name': 'Michael',\n",
       "    'last_name': 'Howell',\n",
       "    'permalink': 'michael-howell'}},\n",
       "  {'is_past': False,\n",
       "   'title': 'Co-Founder/CEO/Board of Directors',\n",
       "   'person': {'first_name': 'Ben',\n",
       "    'last_name': 'Elowitz',\n",
       "    'permalink': 'ben-elowitz'}},\n",
       "  {'is_past': False,\n",
       "   'title': 'COO/Board of Directors',\n",
       "   'person': {'first_name': 'Rob',\n",
       "    'last_name': 'Grady',\n",
       "    'permalink': 'rob-grady'}},\n",
       "  {'is_past': False,\n",
       "   'title': 'SVP, Strategy and Business Development',\n",
       "   'person': {'first_name': 'Chris',\n",
       "    'last_name': 'Kollas',\n",
       "    'permalink': 'chris-kollas'}},\n",
       "  {'is_past': False,\n",
       "   'title': 'Board',\n",
       "   'person': {'first_name': 'Theresia',\n",
       "    'last_name': 'Ranzetta',\n",
       "    'permalink': 'theresia-ranzetta'}},\n",
       "  {'is_past': False,\n",
       "   'title': 'Board Member',\n",
       "   'person': {'first_name': 'Gus',\n",
       "    'last_name': 'Tai',\n",
       "    'permalink': 'gus-tai'}},\n",
       "  {'is_past': False,\n",
       "   'title': 'Board',\n",
       "   'person': {'first_name': 'Len',\n",
       "    'last_name': 'Jordan',\n",
       "    'permalink': 'len-jordan'}},\n",
       "  {'is_past': False,\n",
       "   'title': 'Head of Technology and Product',\n",
       "   'person': {'first_name': 'Alex',\n",
       "    'last_name': 'Weinstein',\n",
       "    'permalink': 'alex-weinstein'}},\n",
       "  {'is_past': True,\n",
       "   'title': 'CFO',\n",
       "   'person': {'first_name': 'Bert',\n",
       "    'last_name': 'Hogue',\n",
       "    'permalink': 'bert-hogue'}},\n",
       "  {'is_past': True,\n",
       "   'title': 'CFO/ CRO',\n",
       "   'person': {'first_name': 'Brian',\n",
       "    'last_name': 'Watkins',\n",
       "    'permalink': 'brian-watkins'}},\n",
       "  {'is_past': True,\n",
       "   'title': 'Senior Vice President, Marketing',\n",
       "   'person': {'first_name': 'Rob',\n",
       "    'last_name': 'Grady',\n",
       "    'permalink': 'rob-grady'}},\n",
       "  {'is_past': True,\n",
       "   'title': 'VP, Technology and Product',\n",
       "   'person': {'first_name': 'Werner',\n",
       "    'last_name': 'Koepf',\n",
       "    'permalink': 'werner-koepf'}},\n",
       "  {'is_past': True,\n",
       "   'title': 'VP Marketing',\n",
       "   'person': {'first_name': 'Kevin',\n",
       "    'last_name': 'Flaherty',\n",
       "    'permalink': 'kevin-flaherty'}},\n",
       "  {'is_past': True,\n",
       "   'title': 'VP User Experience',\n",
       "   'person': {'first_name': 'Alex',\n",
       "    'last_name': 'Berg',\n",
       "    'permalink': 'alex-berg'}},\n",
       "  {'is_past': True,\n",
       "   'title': 'VP Engineering',\n",
       "   'person': {'first_name': 'Steve',\n",
       "    'last_name': 'McQuade',\n",
       "    'permalink': 'steve-mcquade'}},\n",
       "  {'is_past': True,\n",
       "   'title': 'Executive Editor',\n",
       "   'person': {'first_name': 'Susan',\n",
       "    'last_name': 'Mulcahy',\n",
       "    'permalink': 'susan-mulcahy'}},\n",
       "  {'is_past': True,\n",
       "   'title': 'VP Business Development',\n",
       "   'person': {'first_name': 'Chris',\n",
       "    'last_name': 'Kollas',\n",
       "    'permalink': 'chris-kollas'}}],\n",
       " 'competitions': [{'competitor': {'name': 'Wikia', 'permalink': 'wikia'}},\n",
       "  {'competitor': {'name': 'JotSpot', 'permalink': 'jotspot'}},\n",
       "  {'competitor': {'name': 'Socialtext', 'permalink': 'socialtext'}},\n",
       "  {'competitor': {'name': 'Ning by Glam Media', 'permalink': 'ning'}},\n",
       "  {'competitor': {'name': 'Soceeo', 'permalink': 'soceeo'}},\n",
       "  {'competitor': {'name': 'Yola', 'permalink': 'yola'}},\n",
       "  {'competitor': {'name': 'SocialGO', 'permalink': 'socialgo'}},\n",
       "  {'competitor': {'name': 'IslamNor', 'permalink': 'islamnor'}}],\n",
       " 'providerships': [],\n",
       " 'total_money_raised': '$39.8M',\n",
       " 'funding_rounds': [{'id': 888,\n",
       "   'round_code': 'a',\n",
       "   'source_url': 'http://seattlepi.nwsource.com/business/246734_wiki02.html',\n",
       "   'source_description': '',\n",
       "   'raised_amount': 5250000,\n",
       "   'raised_currency_code': 'USD',\n",
       "   'funded_year': 2005,\n",
       "   'funded_month': 10,\n",
       "   'funded_day': 1,\n",
       "   'investments': [{'company': None,\n",
       "     'financial_org': {'name': 'Frazier Technology Ventures',\n",
       "      'permalink': 'frazier-technology-ventures'},\n",
       "     'person': None},\n",
       "    {'company': None,\n",
       "     'financial_org': {'name': 'Trinity Ventures',\n",
       "      'permalink': 'trinity-ventures'},\n",
       "     'person': None}]},\n",
       "  {'id': 889,\n",
       "   'round_code': 'b',\n",
       "   'source_url': 'http://pulse2.com/2007/01/09/wiki-builder-website-wetpaint-welcomes-95m-funding/',\n",
       "   'source_description': '',\n",
       "   'raised_amount': 9500000,\n",
       "   'raised_currency_code': 'USD',\n",
       "   'funded_year': 2007,\n",
       "   'funded_month': 1,\n",
       "   'funded_day': 1,\n",
       "   'investments': [{'company': None,\n",
       "     'financial_org': {'name': 'Accel Partners',\n",
       "      'permalink': 'accel-partners'},\n",
       "     'person': None},\n",
       "    {'company': None,\n",
       "     'financial_org': {'name': 'Frazier Technology Ventures',\n",
       "      'permalink': 'frazier-technology-ventures'},\n",
       "     'person': None},\n",
       "    {'company': None,\n",
       "     'financial_org': {'name': 'Trinity Ventures',\n",
       "      'permalink': 'trinity-ventures'},\n",
       "     'person': None}]},\n",
       "  {'id': 2312,\n",
       "   'round_code': 'c',\n",
       "   'source_url': 'http://www.accel.com/news/news_one_up.php?news_id=185',\n",
       "   'source_description': 'Accel',\n",
       "   'raised_amount': 25000000,\n",
       "   'raised_currency_code': 'USD',\n",
       "   'funded_year': 2008,\n",
       "   'funded_month': 5,\n",
       "   'funded_day': 19,\n",
       "   'investments': [{'company': None,\n",
       "     'financial_org': {'name': 'DAG Ventures', 'permalink': 'dag-ventures'},\n",
       "     'person': None},\n",
       "    {'company': None,\n",
       "     'financial_org': {'name': 'Accel Partners',\n",
       "      'permalink': 'accel-partners'},\n",
       "     'person': None},\n",
       "    {'company': None,\n",
       "     'financial_org': {'name': 'Trinity Ventures',\n",
       "      'permalink': 'trinity-ventures'},\n",
       "     'person': None},\n",
       "    {'company': None,\n",
       "     'financial_org': {'name': 'Frazier Technology Ventures',\n",
       "      'permalink': 'frazier-technology-ventures'},\n",
       "     'person': None}]}],\n",
       " 'investments': [],\n",
       " 'acquisition': {'price_amount': 30000000,\n",
       "  'price_currency_code': 'USD',\n",
       "  'term_code': 'cash_and_stock',\n",
       "  'source_url': 'http://allthingsd.com/20131216/viggle-tries-to-bulk-up-its-social-tv-business-by-buying-wetpaint/?mod=atdtweet',\n",
       "  'source_description': ' Viggle Tries to Bulk Up Its Social TV Business by Buying Wetpaint',\n",
       "  'acquired_year': 2013,\n",
       "  'acquired_month': 12,\n",
       "  'acquired_day': 16,\n",
       "  'acquiring_company': {'name': 'Viggle', 'permalink': 'viggle'}},\n",
       " 'acquisitions': [],\n",
       " 'offices': [{'description': '',\n",
       "   'address1': '710 - 2nd Avenue',\n",
       "   'address2': 'Suite 1100',\n",
       "   'zip_code': '98104',\n",
       "   'city': 'Seattle',\n",
       "   'state_code': 'WA',\n",
       "   'country_code': 'USA',\n",
       "   'latitude': 47.603122,\n",
       "   'longitude': -122.333253},\n",
       "  {'description': '',\n",
       "   'address1': '270 Lafayette Street',\n",
       "   'address2': 'Suite 505',\n",
       "   'zip_code': '10012',\n",
       "   'city': 'New York',\n",
       "   'state_code': 'NY',\n",
       "   'country_code': 'USA',\n",
       "   'latitude': 40.7237306,\n",
       "   'longitude': -73.9964312}],\n",
       " 'milestones': [{'id': 5869,\n",
       "   'description': \"Wetpaint named in Lead411's Hottest Seattle Companies list\",\n",
       "   'stoned_year': 2010,\n",
       "   'stoned_month': 6,\n",
       "   'stoned_day': 8,\n",
       "   'source_url': 'http://www.lead411.com/seattle-companies.html',\n",
       "   'source_text': None,\n",
       "   'source_description': 'LEAD411 LAUNCHES \"HOTTEST SEATTLE COMPANIES\" AWARDS',\n",
       "   'stoneable_type': 'Company',\n",
       "   'stoned_value': None,\n",
       "   'stoned_value_type': None,\n",
       "   'stoned_acquirer': None,\n",
       "   'stoneable': {'name': 'Wetpaint', 'permalink': 'wetpaint'}},\n",
       "  {'id': 8702,\n",
       "   'description': 'Site-Builder Wetpaint Makes One For Itself, Using the Demand Media Playbook',\n",
       "   'stoned_year': 2010,\n",
       "   'stoned_month': 9,\n",
       "   'stoned_day': 6,\n",
       "   'source_url': 'http://mediamemo.allthingsd.com/20100906/site-builder-wetpaint-makes-one-for-itself-using-the-demand-media-playbook/',\n",
       "   'source_text': None,\n",
       "   'source_description': 'All Things D',\n",
       "   'stoneable_type': 'Company',\n",
       "   'stoned_value': None,\n",
       "   'stoned_value_type': None,\n",
       "   'stoned_acquirer': None,\n",
       "   'stoneable': {'name': 'Wetpaint', 'permalink': 'wetpaint'}}],\n",
       " 'video_embeds': [],\n",
       " 'screenshots': [{'available_sizes': [[[150, 86],\n",
       "     'assets/images/resized/0016/0929/160929v2-max-150x150.png'],\n",
       "    [[250, 143], 'assets/images/resized/0016/0929/160929v2-max-250x250.png'],\n",
       "    [[450, 258], 'assets/images/resized/0016/0929/160929v2-max-450x450.png']],\n",
       "   'attribution': None}],\n",
       " 'external_links': [{'external_url': 'http://www.geekwire.com/2011/rewind-ben-elowitz-wetpaint-ceo-building-type-media-company',\n",
       "   'title': 'GeekWire interview: Rewind - Ben Elowitz, Wetpaint CEO, on building a new type of media company'},\n",
       "  {'external_url': 'http://techcrunch.com/2012/06/17/search-and-social-how-two-will-soon-become-one/',\n",
       "   'title': 'Guest post by CEO Ben Elowitz in TechCrunch'},\n",
       "  {'external_url': 'http://allthingsd.com/20120516/what-to-expect-when-facebook-is-expecting-five-predictions-for-facebooks-first-public-year/',\n",
       "   'title': 'Guest post by CEO Ben Elowitz in AllThingsD'},\n",
       "  {'external_url': 'http://adage.com/article/digitalnext/facebook-biggest-player-advertising-s-540-billion-world/235708/',\n",
       "   'title': 'Guest post by CEO Ben Elowitz in AdAge'},\n",
       "  {'external_url': 'http://www.businessinsider.com/facebook-captures-14-percent-of-our-online-attention-but-only-4-percent-of-ad-spending-online-2012-6',\n",
       "   'title': 'Guest post by CEO Ben Elowitz in Business Insider'},\n",
       "  {'external_url': 'http://allfacebook.com/wetpaint-media-data_b75963',\n",
       "   'title': 'AllFacebook coverage of Wetpaint'},\n",
       "  {'external_url': 'http://adage.com/article/digital/celeb-site-wetpaint-shows-media-profit-facebook/237828/',\n",
       "   'title': 'Profile of Wetpaint in Ad Age'},\n",
       "  {'external_url': 'http://allthingsd.com/20121018/how-to-boost-your-facebook-traffic-tips-and-tricks-from-wetpaint/',\n",
       "   'title': 'Interview with Wetpaint CEO Ben Elowitz in All Things D'},\n",
       "  {'external_url': 'http://www.xconomy.com/seattle/2012/10/19/wetpaint-starts-licensing-its-facebook-based-media-distribution-tech/',\n",
       "   'title': 'Profile of Wetpaint in Xconomy'}],\n",
       " 'partners': []}"
      ]
     },
     "execution_count": 4,
     "metadata": {},
     "output_type": "execute_result"
    }
   ],
   "source": [
    "c.find_one()"
   ]
  },
  {
   "cell_type": "code",
   "execution_count": 5,
   "metadata": {},
   "outputs": [
    {
     "data": {
      "text/plain": [
       "offices\n",
       "{'city': 'San Francisco'}    39\n",
       "{'city': 'New York'}         30\n",
       "{'city': 'Los Angeles'}      11\n",
       "{'city': ''}                  8\n",
       "{'city': 'Paris'}             8\n",
       "                             ..\n",
       "{'city': 'Boulder'}           1\n",
       "{'city': 'Dundee'}            1\n",
       "{'city': 'TromsÃ¸'}           1\n",
       "{'city': 'Abercynon'}         1\n",
       "{'city': 'Vancouver'}         1\n",
       "Name: count, Length: 118, dtype: int64"
      ]
     },
     "execution_count": 5,
     "metadata": {},
     "output_type": "execute_result"
    }
   ],
   "source": [
    "condition1 = {\"category_code\":\"games_video\"}\n",
    "condition2 = {\"funding_rounds.raised_amount\":{\"$gt\": 1000000}}\n",
    "query = {\"$and\":[condition1,condition2]}\n",
    "projection = {\"name\":1, \"_id\":0, \"offices.city\":1}\n",
    "games = list(c.find(query, projection))\n",
    "df = pd.DataFrame(games)\n",
    "df = df.explode('offices')\n",
    "df.offices.value_counts()"
   ]
  },
  {
   "cell_type": "code",
   "execution_count": 6,
   "metadata": {},
   "outputs": [
    {
     "data": {
      "text/plain": [
       "offices\n",
       "{'city': 'San Francisco'}    71\n",
       "{'city': 'New York'}         65\n",
       "{'city': 'Palo Alto'}        22\n",
       "{'city': 'Seattle'}          20\n",
       "{'city': 'London'}           20\n",
       "                             ..\n",
       "{'city': 'Waltham'}           1\n",
       "{'city': 'Pittsburgh'}        1\n",
       "{'city': 'Burlingame'}        1\n",
       "{'city': 'Lowell'}            1\n",
       "{'city': 'Calabassas'}        1\n",
       "Name: count, Length: 194, dtype: int64"
      ]
     },
     "execution_count": 6,
     "metadata": {},
     "output_type": "execute_result"
    }
   ],
   "source": [
    "condition1 = {\"category_code\":\"web\"}\n",
    "condition2 = {\"funding_rounds.raised_amount\":{\"$gt\": 1000000}}\n",
    "query = {\"$and\":[condition1,condition2]}\n",
    "projection = {\"name\":1, \"_id\":0, \"offices.city\":1}\n",
    "web = list(c.find(query, projection))\n",
    "df = pd.DataFrame(web)\n",
    "df = df.explode('offices')\n",
    "df.offices.value_counts()\n"
   ]
  },
  {
   "attachments": {},
   "cell_type": "markdown",
   "metadata": {},
   "source": [
    "## SAN FRANCISCO was the chosen location to steel a company's venue."
   ]
  },
  {
   "cell_type": "code",
   "execution_count": 22,
   "metadata": {},
   "outputs": [],
   "source": [
    "# Getting all ofices in San Francisco\n",
    "condition1 = {\"number_of_employees\":{\"$lt\": 120}}\n",
    "condition2 = {\"number_of_employees\":{\"$gte\": 90}}\n",
    "condition3 = {\"offices.city\":\"San Francisco\"}\n",
    "query = {\"$and\":[condition1,condition2,condition3]}\n",
    "\n",
    "pipeline = [\n",
    "    {\"$match\": query},\n",
    "    {\"$unwind\": \"$offices\"},\n",
    "    {\"$match\": {\"offices.city\": \"San Francisco\"}},\n",
    "    {\"$project\": {\"_id\": 0, \"name\": 1, \"latitude\": \"$offices.latitude\", \"longitude\": \"$offices.longitude\", \"address\": \"$offices.address1\"}}\n",
    "]\n",
    "\n",
    "final_list = list(c.aggregate(pipeline))"
   ]
  },
  {
   "cell_type": "code",
   "execution_count": 27,
   "metadata": {},
   "outputs": [
    {
     "data": {
      "text/html": [
       "<div>\n",
       "<style scoped>\n",
       "    .dataframe tbody tr th:only-of-type {\n",
       "        vertical-align: middle;\n",
       "    }\n",
       "\n",
       "    .dataframe tbody tr th {\n",
       "        vertical-align: top;\n",
       "    }\n",
       "\n",
       "    .dataframe thead th {\n",
       "        text-align: right;\n",
       "    }\n",
       "</style>\n",
       "<table border=\"1\" class=\"dataframe\">\n",
       "  <thead>\n",
       "    <tr style=\"text-align: right;\">\n",
       "      <th></th>\n",
       "      <th>name</th>\n",
       "      <th>latitude</th>\n",
       "      <th>longitude</th>\n",
       "      <th>address</th>\n",
       "    </tr>\n",
       "  </thead>\n",
       "  <tbody>\n",
       "    <tr>\n",
       "      <th>0</th>\n",
       "      <td>hi5</td>\n",
       "      <td>37.788668</td>\n",
       "      <td>-122.400558</td>\n",
       "      <td>55 Second Street</td>\n",
       "    </tr>\n",
       "    <tr>\n",
       "      <th>1</th>\n",
       "      <td>eBuddy</td>\n",
       "      <td>37.787683</td>\n",
       "      <td>-122.410943</td>\n",
       "      <td>555 Post St.</td>\n",
       "    </tr>\n",
       "    <tr>\n",
       "      <th>2</th>\n",
       "      <td>Greystripe</td>\n",
       "      <td>37.710677</td>\n",
       "      <td>-122.393230</td>\n",
       "      <td>160 Spear Street Fl 14</td>\n",
       "    </tr>\n",
       "    <tr>\n",
       "      <th>3</th>\n",
       "      <td>Zynga</td>\n",
       "      <td>37.765158</td>\n",
       "      <td>-122.404234</td>\n",
       "      <td>365 Vermont St.</td>\n",
       "    </tr>\n",
       "    <tr>\n",
       "      <th>6</th>\n",
       "      <td>99designs</td>\n",
       "      <td>37.795531</td>\n",
       "      <td>-122.400598</td>\n",
       "      <td>447 Battery St.</td>\n",
       "    </tr>\n",
       "    <tr>\n",
       "      <th>7</th>\n",
       "      <td>LiveRail</td>\n",
       "      <td>37.787183</td>\n",
       "      <td>-122.397759</td>\n",
       "      <td>575 Market St.</td>\n",
       "    </tr>\n",
       "    <tr>\n",
       "      <th>8</th>\n",
       "      <td>Clickpass</td>\n",
       "      <td>37.775196</td>\n",
       "      <td>-122.419204</td>\n",
       "      <td></td>\n",
       "    </tr>\n",
       "    <tr>\n",
       "      <th>11</th>\n",
       "      <td>ServePath</td>\n",
       "      <td>37.789803</td>\n",
       "      <td>-122.389757</td>\n",
       "      <td>345 Spear Street</td>\n",
       "    </tr>\n",
       "    <tr>\n",
       "      <th>12</th>\n",
       "      <td>GitHub</td>\n",
       "      <td>37.775196</td>\n",
       "      <td>-122.419204</td>\n",
       "      <td>275 Brannan St.</td>\n",
       "    </tr>\n",
       "    <tr>\n",
       "      <th>13</th>\n",
       "      <td>Tealeaf</td>\n",
       "      <td>37.791242</td>\n",
       "      <td>-122.397133</td>\n",
       "      <td>45 Fremont St.</td>\n",
       "    </tr>\n",
       "    <tr>\n",
       "      <th>14</th>\n",
       "      <td>iWin</td>\n",
       "      <td>37.781689</td>\n",
       "      <td>-122.391061</td>\n",
       "      <td>45 Fremont Street</td>\n",
       "    </tr>\n",
       "    <tr>\n",
       "      <th>15</th>\n",
       "      <td>Cloudmark</td>\n",
       "      <td>37.779507</td>\n",
       "      <td>-122.390710</td>\n",
       "      <td>128 King Street</td>\n",
       "    </tr>\n",
       "    <tr>\n",
       "      <th>16</th>\n",
       "      <td>GoGrid</td>\n",
       "      <td>37.789525</td>\n",
       "      <td>-122.388657</td>\n",
       "      <td>2 Harrison Street</td>\n",
       "    </tr>\n",
       "    <tr>\n",
       "      <th>17</th>\n",
       "      <td>GoGrid</td>\n",
       "      <td>37.789320</td>\n",
       "      <td>-122.390058</td>\n",
       "      <td>360 Spear Street</td>\n",
       "    </tr>\n",
       "    <tr>\n",
       "      <th>18</th>\n",
       "      <td>Minted</td>\n",
       "      <td>37.797435</td>\n",
       "      <td>-122.403175</td>\n",
       "      <td>747 Front Street</td>\n",
       "    </tr>\n",
       "    <tr>\n",
       "      <th>22</th>\n",
       "      <td>Twilio</td>\n",
       "      <td>37.789850</td>\n",
       "      <td>-122.400683</td>\n",
       "      <td>645 Harrison, 3rd Floor</td>\n",
       "    </tr>\n",
       "    <tr>\n",
       "      <th>23</th>\n",
       "      <td>Skout</td>\n",
       "      <td>37.780054</td>\n",
       "      <td>-122.391249</td>\n",
       "      <td>301 Howard</td>\n",
       "    </tr>\n",
       "    <tr>\n",
       "      <th>25</th>\n",
       "      <td>Canopy Financial</td>\n",
       "      <td>37.791388</td>\n",
       "      <td>-122.392148</td>\n",
       "      <td>201 Spear St.</td>\n",
       "    </tr>\n",
       "    <tr>\n",
       "      <th>26</th>\n",
       "      <td>ContinuumGlobal</td>\n",
       "      <td>37.782467</td>\n",
       "      <td>-122.394255</td>\n",
       "      <td>431 Bryant Street</td>\n",
       "    </tr>\n",
       "    <tr>\n",
       "      <th>27</th>\n",
       "      <td>ZoomSystems</td>\n",
       "      <td>37.781689</td>\n",
       "      <td>-122.391061</td>\n",
       "      <td>22 4th Street, Floor 16</td>\n",
       "    </tr>\n",
       "    <tr>\n",
       "      <th>28</th>\n",
       "      <td>Exent</td>\n",
       "      <td>37.787646</td>\n",
       "      <td>-122.402759</td>\n",
       "      <td>685 Market Street</td>\n",
       "    </tr>\n",
       "  </tbody>\n",
       "</table>\n",
       "</div>"
      ],
      "text/plain": [
       "                name   latitude   longitude                  address\n",
       "0                hi5  37.788668 -122.400558         55 Second Street\n",
       "1             eBuddy  37.787683 -122.410943             555 Post St.\n",
       "2         Greystripe  37.710677 -122.393230   160 Spear Street Fl 14\n",
       "3              Zynga  37.765158 -122.404234          365 Vermont St.\n",
       "6          99designs  37.795531 -122.400598          447 Battery St.\n",
       "7           LiveRail  37.787183 -122.397759           575 Market St.\n",
       "8          Clickpass  37.775196 -122.419204                         \n",
       "11         ServePath  37.789803 -122.389757         345 Spear Street\n",
       "12            GitHub  37.775196 -122.419204          275 Brannan St.\n",
       "13           Tealeaf  37.791242 -122.397133           45 Fremont St.\n",
       "14              iWin  37.781689 -122.391061        45 Fremont Street\n",
       "15         Cloudmark  37.779507 -122.390710          128 King Street\n",
       "16            GoGrid  37.789525 -122.388657        2 Harrison Street\n",
       "17            GoGrid  37.789320 -122.390058         360 Spear Street\n",
       "18            Minted  37.797435 -122.403175         747 Front Street\n",
       "22            Twilio  37.789850 -122.400683  645 Harrison, 3rd Floor\n",
       "23             Skout  37.780054 -122.391249               301 Howard\n",
       "25  Canopy Financial  37.791388 -122.392148            201 Spear St.\n",
       "26   ContinuumGlobal  37.782467 -122.394255        431 Bryant Street\n",
       "27       ZoomSystems  37.781689 -122.391061  22 4th Street, Floor 16\n",
       "28             Exent  37.787646 -122.402759        685 Market Street"
      ]
     },
     "execution_count": 27,
     "metadata": {},
     "output_type": "execute_result"
    }
   ],
   "source": [
    "possible_venues = pd.DataFrame(final_list)\n",
    "possible_venues.drop_duplicates(inplace=True)\n",
    "possible_venues.dropna(inplace=True)\n",
    "possible_venues"
   ]
  },
  {
   "cell_type": "code",
   "execution_count": 152,
   "metadata": {},
   "outputs": [],
   "source": [
    "\"\"\"\n",
    "def get_coordinates (where):\n",
    "\n",
    "    url_geocode = f\"https://geocode.xyz/{where}?json=1\"\n",
    "    \n",
    "    try:\n",
    "        res = requests.get(url_geocode).json()\n",
    "        return [res[\"longt\"], res[\"latt\"]]\n",
    "    \n",
    "    except:\n",
    "        print(f\"Sorry, no matches for {where}\")\n",
    "        time.sleep(8)\n",
    "        get_coordinates(where)\n",
    "\"\"\""
   ]
  },
  {
   "cell_type": "code",
   "execution_count": 49,
   "metadata": {},
   "outputs": [
    {
     "data": {
      "application/vnd.plotly.v1+json": {
       "config": {
        "plotlyServerURL": "https://plot.ly"
       },
       "data": [
        {
         "customdata": [
          [
           "55 Second Street"
          ],
          [
           "555 Post St."
          ],
          [
           "160 Spear Street Fl 14"
          ],
          [
           "365 Vermont St."
          ],
          [
           "240 Stockton St, 10th Floor"
          ],
          [
           "244 Jackson Street"
          ],
          [
           "447 Battery St."
          ],
          [
           "575 Market St."
          ],
          [
           ""
          ],
          [
           "30 Maiden Lane, 6th Floor"
          ],
          [
           ""
          ],
          [
           "345 Spear Street"
          ],
          [
           "275 Brannan St."
          ],
          [
           "45 Fremont St."
          ],
          [
           "45 Fremont Street"
          ],
          [
           "128 King Street"
          ],
          [
           "2 Harrison Street"
          ],
          [
           "360 Spear Street"
          ],
          [
           "747 Front Street"
          ],
          [
           "735 Montgomery Street"
          ],
          [
           "640 Rocca Ave."
          ],
          [
           "645 Harrison, 3rd Floor"
          ],
          [
           "301 Howard"
          ],
          [
           "929 Market St."
          ],
          [
           "201 Spear St."
          ],
          [
           "431 Bryant Street"
          ],
          [
           "22 4th Street, Floor 16"
          ],
          [
           "685 Market Street"
          ],
          [
           "Suite 136, 1750 Montgomery Street"
          ]
         ],
         "hovertemplate": "<b>%{hovertext}</b><br><br>latitude=%{lat}<br>longitude=%{lon}<br>address=%{customdata[0]}<extra></extra>",
         "hovertext": [
          "hi5",
          "eBuddy",
          "Greystripe",
          "Zynga",
          "Smaato",
          "AtomicOnline",
          "99designs",
          "LiveRail",
          "Clickpass",
          "Pure Digital Technologies",
          "Mojiva",
          "ServePath",
          "GitHub",
          "Tealeaf",
          "iWin",
          "Cloudmark",
          "GoGrid",
          "GoGrid",
          "Minted",
          "Prezi",
          "XBOSoft",
          "Twilio",
          "Skout",
          "Basho Technologies",
          "Canopy Financial",
          "ContinuumGlobal",
          "ZoomSystems",
          "Exent",
          "G5 Entertainment"
         ],
         "lat": [
          37.788668,
          37.787683,
          37.710677,
          37.765158,
          null,
          null,
          37.7955307,
          37.787183,
          37.775196,
          null,
          null,
          37.789803,
          37.775196,
          37.791242,
          37.781689,
          37.779507,
          37.7895248,
          37.78932,
          37.797435,
          null,
          null,
          37.7898499,
          37.7800539,
          null,
          37.791388,
          37.7824672,
          37.781689,
          37.787646,
          null
         ],
         "legendgroup": "",
         "lon": [
          -122.400558,
          -122.410943,
          -122.39323,
          -122.404234,
          null,
          null,
          -122.4005983,
          -122.397759,
          -122.419204,
          null,
          null,
          -122.389757,
          -122.419204,
          -122.397133,
          -122.391061,
          -122.39071,
          -122.3886569,
          -122.390058,
          -122.403175,
          null,
          null,
          -122.4006831,
          -122.3912492,
          null,
          -122.392148,
          -122.3942549,
          -122.391061,
          -122.402759,
          null
         ],
         "marker": {
          "color": "#636efa"
         },
         "mode": "markers",
         "name": "",
         "showlegend": false,
         "subplot": "mapbox",
         "type": "scattermapbox"
        }
       ],
       "layout": {
        "legend": {
         "tracegroupgap": 0
        },
        "mapbox": {
         "center": {
          "lat": 37.78175745238095,
          "lon": -122.39849697142856
         },
         "domain": {
          "x": [
           0,
           1
          ],
          "y": [
           0,
           1
          ]
         },
         "style": "carto-positron",
         "zoom": 12
        },
        "margin": {
         "t": 60
        },
        "template": {
         "data": {
          "bar": [
           {
            "error_x": {
             "color": "#2a3f5f"
            },
            "error_y": {
             "color": "#2a3f5f"
            },
            "marker": {
             "line": {
              "color": "#E5ECF6",
              "width": 0.5
             },
             "pattern": {
              "fillmode": "overlay",
              "size": 10,
              "solidity": 0.2
             }
            },
            "type": "bar"
           }
          ],
          "barpolar": [
           {
            "marker": {
             "line": {
              "color": "#E5ECF6",
              "width": 0.5
             },
             "pattern": {
              "fillmode": "overlay",
              "size": 10,
              "solidity": 0.2
             }
            },
            "type": "barpolar"
           }
          ],
          "carpet": [
           {
            "aaxis": {
             "endlinecolor": "#2a3f5f",
             "gridcolor": "white",
             "linecolor": "white",
             "minorgridcolor": "white",
             "startlinecolor": "#2a3f5f"
            },
            "baxis": {
             "endlinecolor": "#2a3f5f",
             "gridcolor": "white",
             "linecolor": "white",
             "minorgridcolor": "white",
             "startlinecolor": "#2a3f5f"
            },
            "type": "carpet"
           }
          ],
          "choropleth": [
           {
            "colorbar": {
             "outlinewidth": 0,
             "ticks": ""
            },
            "type": "choropleth"
           }
          ],
          "contour": [
           {
            "colorbar": {
             "outlinewidth": 0,
             "ticks": ""
            },
            "colorscale": [
             [
              0,
              "#0d0887"
             ],
             [
              0.1111111111111111,
              "#46039f"
             ],
             [
              0.2222222222222222,
              "#7201a8"
             ],
             [
              0.3333333333333333,
              "#9c179e"
             ],
             [
              0.4444444444444444,
              "#bd3786"
             ],
             [
              0.5555555555555556,
              "#d8576b"
             ],
             [
              0.6666666666666666,
              "#ed7953"
             ],
             [
              0.7777777777777778,
              "#fb9f3a"
             ],
             [
              0.8888888888888888,
              "#fdca26"
             ],
             [
              1,
              "#f0f921"
             ]
            ],
            "type": "contour"
           }
          ],
          "contourcarpet": [
           {
            "colorbar": {
             "outlinewidth": 0,
             "ticks": ""
            },
            "type": "contourcarpet"
           }
          ],
          "heatmap": [
           {
            "colorbar": {
             "outlinewidth": 0,
             "ticks": ""
            },
            "colorscale": [
             [
              0,
              "#0d0887"
             ],
             [
              0.1111111111111111,
              "#46039f"
             ],
             [
              0.2222222222222222,
              "#7201a8"
             ],
             [
              0.3333333333333333,
              "#9c179e"
             ],
             [
              0.4444444444444444,
              "#bd3786"
             ],
             [
              0.5555555555555556,
              "#d8576b"
             ],
             [
              0.6666666666666666,
              "#ed7953"
             ],
             [
              0.7777777777777778,
              "#fb9f3a"
             ],
             [
              0.8888888888888888,
              "#fdca26"
             ],
             [
              1,
              "#f0f921"
             ]
            ],
            "type": "heatmap"
           }
          ],
          "heatmapgl": [
           {
            "colorbar": {
             "outlinewidth": 0,
             "ticks": ""
            },
            "colorscale": [
             [
              0,
              "#0d0887"
             ],
             [
              0.1111111111111111,
              "#46039f"
             ],
             [
              0.2222222222222222,
              "#7201a8"
             ],
             [
              0.3333333333333333,
              "#9c179e"
             ],
             [
              0.4444444444444444,
              "#bd3786"
             ],
             [
              0.5555555555555556,
              "#d8576b"
             ],
             [
              0.6666666666666666,
              "#ed7953"
             ],
             [
              0.7777777777777778,
              "#fb9f3a"
             ],
             [
              0.8888888888888888,
              "#fdca26"
             ],
             [
              1,
              "#f0f921"
             ]
            ],
            "type": "heatmapgl"
           }
          ],
          "histogram": [
           {
            "marker": {
             "pattern": {
              "fillmode": "overlay",
              "size": 10,
              "solidity": 0.2
             }
            },
            "type": "histogram"
           }
          ],
          "histogram2d": [
           {
            "colorbar": {
             "outlinewidth": 0,
             "ticks": ""
            },
            "colorscale": [
             [
              0,
              "#0d0887"
             ],
             [
              0.1111111111111111,
              "#46039f"
             ],
             [
              0.2222222222222222,
              "#7201a8"
             ],
             [
              0.3333333333333333,
              "#9c179e"
             ],
             [
              0.4444444444444444,
              "#bd3786"
             ],
             [
              0.5555555555555556,
              "#d8576b"
             ],
             [
              0.6666666666666666,
              "#ed7953"
             ],
             [
              0.7777777777777778,
              "#fb9f3a"
             ],
             [
              0.8888888888888888,
              "#fdca26"
             ],
             [
              1,
              "#f0f921"
             ]
            ],
            "type": "histogram2d"
           }
          ],
          "histogram2dcontour": [
           {
            "colorbar": {
             "outlinewidth": 0,
             "ticks": ""
            },
            "colorscale": [
             [
              0,
              "#0d0887"
             ],
             [
              0.1111111111111111,
              "#46039f"
             ],
             [
              0.2222222222222222,
              "#7201a8"
             ],
             [
              0.3333333333333333,
              "#9c179e"
             ],
             [
              0.4444444444444444,
              "#bd3786"
             ],
             [
              0.5555555555555556,
              "#d8576b"
             ],
             [
              0.6666666666666666,
              "#ed7953"
             ],
             [
              0.7777777777777778,
              "#fb9f3a"
             ],
             [
              0.8888888888888888,
              "#fdca26"
             ],
             [
              1,
              "#f0f921"
             ]
            ],
            "type": "histogram2dcontour"
           }
          ],
          "mesh3d": [
           {
            "colorbar": {
             "outlinewidth": 0,
             "ticks": ""
            },
            "type": "mesh3d"
           }
          ],
          "parcoords": [
           {
            "line": {
             "colorbar": {
              "outlinewidth": 0,
              "ticks": ""
             }
            },
            "type": "parcoords"
           }
          ],
          "pie": [
           {
            "automargin": true,
            "type": "pie"
           }
          ],
          "scatter": [
           {
            "fillpattern": {
             "fillmode": "overlay",
             "size": 10,
             "solidity": 0.2
            },
            "type": "scatter"
           }
          ],
          "scatter3d": [
           {
            "line": {
             "colorbar": {
              "outlinewidth": 0,
              "ticks": ""
             }
            },
            "marker": {
             "colorbar": {
              "outlinewidth": 0,
              "ticks": ""
             }
            },
            "type": "scatter3d"
           }
          ],
          "scattercarpet": [
           {
            "marker": {
             "colorbar": {
              "outlinewidth": 0,
              "ticks": ""
             }
            },
            "type": "scattercarpet"
           }
          ],
          "scattergeo": [
           {
            "marker": {
             "colorbar": {
              "outlinewidth": 0,
              "ticks": ""
             }
            },
            "type": "scattergeo"
           }
          ],
          "scattergl": [
           {
            "marker": {
             "colorbar": {
              "outlinewidth": 0,
              "ticks": ""
             }
            },
            "type": "scattergl"
           }
          ],
          "scattermapbox": [
           {
            "marker": {
             "colorbar": {
              "outlinewidth": 0,
              "ticks": ""
             }
            },
            "type": "scattermapbox"
           }
          ],
          "scatterpolar": [
           {
            "marker": {
             "colorbar": {
              "outlinewidth": 0,
              "ticks": ""
             }
            },
            "type": "scatterpolar"
           }
          ],
          "scatterpolargl": [
           {
            "marker": {
             "colorbar": {
              "outlinewidth": 0,
              "ticks": ""
             }
            },
            "type": "scatterpolargl"
           }
          ],
          "scatterternary": [
           {
            "marker": {
             "colorbar": {
              "outlinewidth": 0,
              "ticks": ""
             }
            },
            "type": "scatterternary"
           }
          ],
          "surface": [
           {
            "colorbar": {
             "outlinewidth": 0,
             "ticks": ""
            },
            "colorscale": [
             [
              0,
              "#0d0887"
             ],
             [
              0.1111111111111111,
              "#46039f"
             ],
             [
              0.2222222222222222,
              "#7201a8"
             ],
             [
              0.3333333333333333,
              "#9c179e"
             ],
             [
              0.4444444444444444,
              "#bd3786"
             ],
             [
              0.5555555555555556,
              "#d8576b"
             ],
             [
              0.6666666666666666,
              "#ed7953"
             ],
             [
              0.7777777777777778,
              "#fb9f3a"
             ],
             [
              0.8888888888888888,
              "#fdca26"
             ],
             [
              1,
              "#f0f921"
             ]
            ],
            "type": "surface"
           }
          ],
          "table": [
           {
            "cells": {
             "fill": {
              "color": "#EBF0F8"
             },
             "line": {
              "color": "white"
             }
            },
            "header": {
             "fill": {
              "color": "#C8D4E3"
             },
             "line": {
              "color": "white"
             }
            },
            "type": "table"
           }
          ]
         },
         "layout": {
          "annotationdefaults": {
           "arrowcolor": "#2a3f5f",
           "arrowhead": 0,
           "arrowwidth": 1
          },
          "autotypenumbers": "strict",
          "coloraxis": {
           "colorbar": {
            "outlinewidth": 0,
            "ticks": ""
           }
          },
          "colorscale": {
           "diverging": [
            [
             0,
             "#8e0152"
            ],
            [
             0.1,
             "#c51b7d"
            ],
            [
             0.2,
             "#de77ae"
            ],
            [
             0.3,
             "#f1b6da"
            ],
            [
             0.4,
             "#fde0ef"
            ],
            [
             0.5,
             "#f7f7f7"
            ],
            [
             0.6,
             "#e6f5d0"
            ],
            [
             0.7,
             "#b8e186"
            ],
            [
             0.8,
             "#7fbc41"
            ],
            [
             0.9,
             "#4d9221"
            ],
            [
             1,
             "#276419"
            ]
           ],
           "sequential": [
            [
             0,
             "#0d0887"
            ],
            [
             0.1111111111111111,
             "#46039f"
            ],
            [
             0.2222222222222222,
             "#7201a8"
            ],
            [
             0.3333333333333333,
             "#9c179e"
            ],
            [
             0.4444444444444444,
             "#bd3786"
            ],
            [
             0.5555555555555556,
             "#d8576b"
            ],
            [
             0.6666666666666666,
             "#ed7953"
            ],
            [
             0.7777777777777778,
             "#fb9f3a"
            ],
            [
             0.8888888888888888,
             "#fdca26"
            ],
            [
             1,
             "#f0f921"
            ]
           ],
           "sequentialminus": [
            [
             0,
             "#0d0887"
            ],
            [
             0.1111111111111111,
             "#46039f"
            ],
            [
             0.2222222222222222,
             "#7201a8"
            ],
            [
             0.3333333333333333,
             "#9c179e"
            ],
            [
             0.4444444444444444,
             "#bd3786"
            ],
            [
             0.5555555555555556,
             "#d8576b"
            ],
            [
             0.6666666666666666,
             "#ed7953"
            ],
            [
             0.7777777777777778,
             "#fb9f3a"
            ],
            [
             0.8888888888888888,
             "#fdca26"
            ],
            [
             1,
             "#f0f921"
            ]
           ]
          },
          "colorway": [
           "#636efa",
           "#EF553B",
           "#00cc96",
           "#ab63fa",
           "#FFA15A",
           "#19d3f3",
           "#FF6692",
           "#B6E880",
           "#FF97FF",
           "#FECB52"
          ],
          "font": {
           "color": "#2a3f5f"
          },
          "geo": {
           "bgcolor": "white",
           "lakecolor": "white",
           "landcolor": "#E5ECF6",
           "showlakes": true,
           "showland": true,
           "subunitcolor": "white"
          },
          "hoverlabel": {
           "align": "left"
          },
          "hovermode": "closest",
          "mapbox": {
           "style": "light"
          },
          "paper_bgcolor": "white",
          "plot_bgcolor": "#E5ECF6",
          "polar": {
           "angularaxis": {
            "gridcolor": "white",
            "linecolor": "white",
            "ticks": ""
           },
           "bgcolor": "#E5ECF6",
           "radialaxis": {
            "gridcolor": "white",
            "linecolor": "white",
            "ticks": ""
           }
          },
          "scene": {
           "xaxis": {
            "backgroundcolor": "#E5ECF6",
            "gridcolor": "white",
            "gridwidth": 2,
            "linecolor": "white",
            "showbackground": true,
            "ticks": "",
            "zerolinecolor": "white"
           },
           "yaxis": {
            "backgroundcolor": "#E5ECF6",
            "gridcolor": "white",
            "gridwidth": 2,
            "linecolor": "white",
            "showbackground": true,
            "ticks": "",
            "zerolinecolor": "white"
           },
           "zaxis": {
            "backgroundcolor": "#E5ECF6",
            "gridcolor": "white",
            "gridwidth": 2,
            "linecolor": "white",
            "showbackground": true,
            "ticks": "",
            "zerolinecolor": "white"
           }
          },
          "shapedefaults": {
           "line": {
            "color": "#2a3f5f"
           }
          },
          "ternary": {
           "aaxis": {
            "gridcolor": "white",
            "linecolor": "white",
            "ticks": ""
           },
           "baxis": {
            "gridcolor": "white",
            "linecolor": "white",
            "ticks": ""
           },
           "bgcolor": "#E5ECF6",
           "caxis": {
            "gridcolor": "white",
            "linecolor": "white",
            "ticks": ""
           }
          },
          "title": {
           "x": 0.05
          },
          "xaxis": {
           "automargin": true,
           "gridcolor": "white",
           "linecolor": "white",
           "ticks": "",
           "title": {
            "standoff": 15
           },
           "zerolinecolor": "white",
           "zerolinewidth": 2
          },
          "yaxis": {
           "automargin": true,
           "gridcolor": "white",
           "linecolor": "white",
           "ticks": "",
           "title": {
            "standoff": 15
           },
           "zerolinecolor": "white",
           "zerolinewidth": 2
          }
         }
        }
       }
      }
     },
     "metadata": {},
     "output_type": "display_data"
    }
   ],
   "source": [
    "fig = px.scatter_mapbox(df, lat=\"latitude\", lon=\"longitude\", hover_name=\"name\", hover_data=[\"address\",])\n",
    "fig.update_layout(mapbox_style=\"carto-positron\",mapbox_zoom=12)\n",
    "fig.show()"
   ]
  },
  {
   "cell_type": "code",
   "execution_count": null,
   "metadata": {},
   "outputs": [],
   "source": []
  }
 ],
 "metadata": {
  "kernelspec": {
   "display_name": "ironhack",
   "language": "python",
   "name": "python3"
  },
  "language_info": {
   "codemirror_mode": {
    "name": "ipython",
    "version": 3
   },
   "file_extension": ".py",
   "mimetype": "text/x-python",
   "name": "python",
   "nbconvert_exporter": "python",
   "pygments_lexer": "ipython3",
   "version": "3.10.9"
  },
  "orig_nbformat": 4
 },
 "nbformat": 4,
 "nbformat_minor": 2
}
