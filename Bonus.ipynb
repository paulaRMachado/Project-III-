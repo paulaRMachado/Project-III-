{
 "cells": [
  {
   "cell_type": "code",
   "execution_count": 2,
   "metadata": {},
   "outputs": [],
   "source": [
    "import requests\n",
    "from bs4 import BeautifulSoup\n",
    "import pandas as pd"
   ]
  },
  {
   "cell_type": "code",
   "execution_count": 8,
   "metadata": {},
   "outputs": [],
   "source": [
    "url = \"https://property.jll.com/rent-office/san-francisco\"\n",
    "html = requests.get(url)\n",
    "soup = BeautifulSoup(html.content, \"html.parser\")"
   ]
  },
  {
   "cell_type": "code",
   "execution_count": 17,
   "metadata": {},
   "outputs": [],
   "source": [
    "result_address = soup.find_all(\"span\", attrs = {\"class\": \"SRPPropertyCard__address\"})\n",
    "result_metric = soup.find_all(\"span\", attrs = {\"class\": \"PropertyMetric__item\"})\n",
    "result_title = soup.find_all(\"span\", attrs = {\"class\": \"SRPPropertyCard__title\"})"
   ]
  },
  {
   "cell_type": "code",
   "execution_count": 26,
   "metadata": {},
   "outputs": [
    {
     "data": {
      "text/plain": [
       "[<span class=\"SRPPropertyCard__address\">185 Berry St</span>,\n",
       " <span class=\"SRPPropertyCard__address\">San Francisco, CA 94107</span>,\n",
       " <span class=\"SRPPropertyCard__address\">1 Market St</span>,\n",
       " <span class=\"SRPPropertyCard__address\">San Francisco, CA 94105</span>,\n",
       " <span class=\"SRPPropertyCard__address\">225 Bush St</span>,\n",
       " <span class=\"SRPPropertyCard__address\">San Francisco, CA 94104</span>,\n",
       " <span class=\"SRPPropertyCard__address\">111 Sutter St</span>,\n",
       " <span class=\"SRPPropertyCard__address\">San Francisco, CA 94104</span>,\n",
       " <span class=\"SRPPropertyCard__address\"></span>,\n",
       " <span class=\"SRPPropertyCard__address\">San Francisco, CA 94105</span>,\n",
       " <span class=\"SRPPropertyCard__address\">500-550 Treat Ave</span>,\n",
       " <span class=\"SRPPropertyCard__address\">San Francisco, CA 94110</span>,\n",
       " <span class=\"SRPPropertyCard__address\">One Montgomery St</span>,\n",
       " <span class=\"SRPPropertyCard__address\">San Francisco, CA 94104</span>,\n",
       " <span class=\"SRPPropertyCard__address\">703-705 Market St</span>,\n",
       " <span class=\"SRPPropertyCard__address\">San Francisco, CA 94103</span>,\n",
       " <span class=\"SRPPropertyCard__address\">520-560 Davis St</span>,\n",
       " <span class=\"SRPPropertyCard__address\">San Francisco, CA 94111</span>,\n",
       " <span class=\"SRPPropertyCard__address\">1 Market St</span>,\n",
       " <span class=\"SRPPropertyCard__address\">San Francisco, CA 94105</span>,\n",
       " <span class=\"SRPPropertyCard__address\">1700 Montgomery St</span>,\n",
       " <span class=\"SRPPropertyCard__address\">San Francisco, CA 94111</span>,\n",
       " <span class=\"SRPPropertyCard__address\">50 Francisco St</span>,\n",
       " <span class=\"SRPPropertyCard__address\">San Francisco, CA 94133</span>,\n",
       " <span class=\"SRPPropertyCard__address\">250 Montgomery St</span>,\n",
       " <span class=\"SRPPropertyCard__address\">San Francisco, CA 94104</span>,\n",
       " <span class=\"SRPPropertyCard__address\"></span>,\n",
       " <span class=\"SRPPropertyCard__address\">San Francisco, CA 94104</span>,\n",
       " <span class=\"SRPPropertyCard__address\">1 Lombard St</span>,\n",
       " <span class=\"SRPPropertyCard__address\">San Francisco, CA 94111</span>,\n",
       " <span class=\"SRPPropertyCard__address\">1001 Front St</span>,\n",
       " <span class=\"SRPPropertyCard__address\">San Francisco, CA 94111</span>,\n",
       " <span class=\"SRPPropertyCard__address\">101 Montgomery St</span>,\n",
       " <span class=\"SRPPropertyCard__address\">San Francisco, CA 94104</span>,\n",
       " <span class=\"SRPPropertyCard__address\">1390 Market St</span>,\n",
       " <span class=\"SRPPropertyCard__address\">San Francisco, CA 94102</span>,\n",
       " <span class=\"SRPPropertyCard__address\">270 Brannan St</span>,\n",
       " <span class=\"SRPPropertyCard__address\">San Francisco, CA 94107</span>,\n",
       " <span class=\"SRPPropertyCard__address\"></span>,\n",
       " <span class=\"SRPPropertyCard__address\">San Francisco, CA 94111</span>,\n",
       " <span class=\"SRPPropertyCard__address\">415 Natoma St</span>,\n",
       " <span class=\"SRPPropertyCard__address\">San Francisco, CA 94103</span>,\n",
       " <span class=\"SRPPropertyCard__address\">1301 Sansome St</span>,\n",
       " <span class=\"SRPPropertyCard__address\">San Francisco, CA 94111</span>,\n",
       " <span class=\"SRPPropertyCard__address\">55 Francisco St</span>,\n",
       " <span class=\"SRPPropertyCard__address\">San Francisco, CA 94133</span>,\n",
       " <span class=\"SRPPropertyCard__address\">600 Montgomery St</span>,\n",
       " <span class=\"SRPPropertyCard__address\">San Francisco, CA 94111</span>,\n",
       " <span class=\"SRPPropertyCard__address\">100 Montgomery St</span>,\n",
       " <span class=\"SRPPropertyCard__address\">San Francisco, CA 94104</span>,\n",
       " <span class=\"SRPPropertyCard__address\">353 Sacramento St</span>,\n",
       " <span class=\"SRPPropertyCard__address\">San Francisco, CA 94111</span>,\n",
       " <span class=\"SRPPropertyCard__address\"></span>,\n",
       " <span class=\"SRPPropertyCard__address\">San Francisco, CA 94103</span>,\n",
       " <span class=\"SRPPropertyCard__address\">303 2nd St</span>,\n",
       " <span class=\"SRPPropertyCard__address\">San Francisco, CA 94107</span>,\n",
       " <span class=\"SRPPropertyCard__address\">455 Market St</span>,\n",
       " <span class=\"SRPPropertyCard__address\">San Francisco, CA 94105</span>,\n",
       " <span class=\"SRPPropertyCard__address\">1455 Market St</span>,\n",
       " <span class=\"SRPPropertyCard__address\">San Francisco, CA 94103</span>,\n",
       " <span class=\"SRPPropertyCard__address\">88 Kearny St</span>,\n",
       " <span class=\"SRPPropertyCard__address\">San Francisco, CA 94104</span>,\n",
       " <span class=\"SRPPropertyCard__address\">600 California St</span>,\n",
       " <span class=\"SRPPropertyCard__address\">San Francisco, CA 94108</span>,\n",
       " <span class=\"SRPPropertyCard__address\">555 Mission St</span>,\n",
       " <span class=\"SRPPropertyCard__address\">San Francisco, CA 94105</span>,\n",
       " <span class=\"SRPPropertyCard__address\">2 Harrison St</span>,\n",
       " <span class=\"SRPPropertyCard__address\">San Francisco, CA 94105</span>,\n",
       " <span class=\"SRPPropertyCard__address\">835 Market St</span>,\n",
       " <span class=\"SRPPropertyCard__address\">San Francisco, CA 94103</span>,\n",
       " <span class=\"SRPPropertyCard__address\"></span>,\n",
       " <span class=\"SRPPropertyCard__address\">San Francisco, CA 94104</span>,\n",
       " <span class=\"SRPPropertyCard__address\">601 Montgomery St</span>,\n",
       " <span class=\"SRPPropertyCard__address\">San Francisco, CA 94111</span>,\n",
       " <span class=\"SRPPropertyCard__address\">755 Sansome St</span>,\n",
       " <span class=\"SRPPropertyCard__address\">San Francisco, CA 94111</span>,\n",
       " <span class=\"SRPPropertyCard__address\">351 California St</span>,\n",
       " <span class=\"SRPPropertyCard__address\">San Francisco, CA 94104</span>,\n",
       " <span class=\"SRPPropertyCard__address\">685 Market St</span>,\n",
       " <span class=\"SRPPropertyCard__address\">San Francisco, CA 94105</span>,\n",
       " <span class=\"SRPPropertyCard__address\">55-75 Broadway</span>,\n",
       " <span class=\"SRPPropertyCard__address\">San Francisco, CA 94111</span>,\n",
       " <span class=\"SRPPropertyCard__address\"></span>,\n",
       " <span class=\"SRPPropertyCard__address\">San Francisco, CA 94107</span>,\n",
       " <span class=\"SRPPropertyCard__address\">465 California St</span>,\n",
       " <span class=\"SRPPropertyCard__address\">San Francisco, CA 94104</span>,\n",
       " <span class=\"SRPPropertyCard__address\">101 California St</span>,\n",
       " <span class=\"SRPPropertyCard__address\">San Francisco, CA 94111</span>,\n",
       " <span class=\"SRPPropertyCard__address\">150 Spear St</span>,\n",
       " <span class=\"SRPPropertyCard__address\">San Francisco, CA 94105</span>,\n",
       " <span class=\"SRPPropertyCard__address\">450 Sansome St</span>,\n",
       " <span class=\"SRPPropertyCard__address\">San Francisco, CA 94111</span>,\n",
       " <span class=\"SRPPropertyCard__address\">130-150 Sutter St</span>,\n",
       " <span class=\"SRPPropertyCard__address\">San Francisco, CA 94104</span>,\n",
       " <span class=\"SRPPropertyCard__address\"></span>,\n",
       " <span class=\"SRPPropertyCard__address\">San Francisco, CA 94104</span>,\n",
       " <span class=\"SRPPropertyCard__address\">201 Third St</span>,\n",
       " <span class=\"SRPPropertyCard__address\">San Francisco, CA 94103</span>,\n",
       " <span class=\"SRPPropertyCard__address\">38 Keyes Ave</span>,\n",
       " <span class=\"SRPPropertyCard__address\">San Francisco, CA 94129</span>]"
      ]
     },
     "execution_count": 26,
     "metadata": {},
     "output_type": "execute_result"
    }
   ],
   "source": [
    "len(result_address)\n",
    "#len(result_metric)\n",
    "len(result_title)\n",
    "result_address"
   ]
  }
 ],
 "metadata": {
  "kernelspec": {
   "display_name": "ironhack",
   "language": "python",
   "name": "python3"
  },
  "language_info": {
   "codemirror_mode": {
    "name": "ipython",
    "version": 3
   },
   "file_extension": ".py",
   "mimetype": "text/x-python",
   "name": "python",
   "nbconvert_exporter": "python",
   "pygments_lexer": "ipython3",
   "version": "3.10.9"
  },
  "orig_nbformat": 4
 },
 "nbformat": 4,
 "nbformat_minor": 2
}
